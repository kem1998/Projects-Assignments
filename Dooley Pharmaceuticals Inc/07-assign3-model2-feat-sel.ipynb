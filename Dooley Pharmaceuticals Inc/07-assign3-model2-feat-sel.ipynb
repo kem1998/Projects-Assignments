{
 "cells": [
  {
   "cell_type": "markdown",
   "metadata": {},
   "source": [
    "# ISYS2407 Information Systems Solutions & Design\n",
    "\n",
    "# Assignment 3 \n",
    "\n",
    "# Model 2\n",
    "\n",
    "#### Student name:  Hewa Pattinige Kemith Nanayakkara\n",
    "\n",
    "#### Student number: S3758840"
   ]
  },
  {
   "cell_type": "markdown",
   "metadata": {},
   "source": [
    "# 1 Import libraries"
   ]
  },
  {
   "cell_type": "code",
   "execution_count": 1,
   "metadata": {},
   "outputs": [],
   "source": [
    "# Import the library for pickling\n",
    "import joblib\n",
    "\n",
    "# Library needed for counting categorical values\n",
    "import collections\n",
    "\n",
    "# Also need pandas here\n",
    "import pandas as pd\n",
    "\n",
    "# Library to scale values\n",
    "from sklearn.preprocessing import StandardScaler\n",
    "\n",
    "# Library for replacing labels with numbers\n",
    "from sklearn.preprocessing import LabelEncoder\n",
    "\n",
    "# Libary needed for onehot encoder\n",
    "from sklearn.preprocessing import OneHotEncoder\n",
    "from sklearn.preprocessing import LabelBinarizer\n",
    "# Just use pandas get_dummies which is a lot easier to use\n",
    "\n",
    "# Library for splitting the data into train and test sets\n",
    "from sklearn.model_selection import train_test_split \n",
    "\n",
    "# Import the model library\n",
    "from sklearn.neighbors import KNeighborsClassifier\n",
    "\n",
    "# Library for performing grid search\n",
    "from sklearn.model_selection import GridSearchCV\n",
    "\n",
    "#from sklearn.metrics import precision_score\n",
    "from sklearn.metrics import f1_score\n",
    "\n",
    "# Import the libraries for computing the metrics\n",
    "from sklearn.metrics import accuracy_score\n",
    "from sklearn.metrics import confusion_matrix\n",
    "from sklearn.metrics import recall_score\n",
    "from sklearn.metrics import precision_score\n",
    "from sklearn.metrics import f1_score\n",
    "\n",
    "# Import the plotting libraries\n",
    "import matplotlib.pyplot as plt\n",
    "%matplotlib inline \n",
    "import seaborn as sns"
   ]
  },
  {
   "cell_type": "markdown",
   "metadata": {},
   "source": [
    "# 2 Load the cleaned data\n",
    "\n",
    "#### Pickled file must exist in your folder"
   ]
  },
  {
   "cell_type": "code",
   "execution_count": 2,
   "metadata": {},
   "outputs": [
    {
     "data": {
      "text/html": [
       "<div>\n",
       "<style scoped>\n",
       "    .dataframe tbody tr th:only-of-type {\n",
       "        vertical-align: middle;\n",
       "    }\n",
       "\n",
       "    .dataframe tbody tr th {\n",
       "        vertical-align: top;\n",
       "    }\n",
       "\n",
       "    .dataframe thead th {\n",
       "        text-align: right;\n",
       "    }\n",
       "</style>\n",
       "<table border=\"1\" class=\"dataframe\">\n",
       "  <thead>\n",
       "    <tr style=\"text-align: right;\">\n",
       "      <th></th>\n",
       "      <th>age</th>\n",
       "      <th>business_travel</th>\n",
       "      <th>daily_rate</th>\n",
       "      <th>department</th>\n",
       "      <th>distance_from_home</th>\n",
       "      <th>education</th>\n",
       "      <th>education_field</th>\n",
       "      <th>environment_satisfaction</th>\n",
       "      <th>gender</th>\n",
       "      <th>hourly_rate</th>\n",
       "      <th>...</th>\n",
       "      <th>relationship_satisfaction</th>\n",
       "      <th>stock_option_level</th>\n",
       "      <th>total_working_years</th>\n",
       "      <th>training_times_last_year</th>\n",
       "      <th>work_life_balance</th>\n",
       "      <th>years_at_company</th>\n",
       "      <th>years_in_current_role</th>\n",
       "      <th>years_since_last_promotion</th>\n",
       "      <th>years_with_curr_manager</th>\n",
       "      <th>attrition</th>\n",
       "    </tr>\n",
       "  </thead>\n",
       "  <tbody>\n",
       "    <tr>\n",
       "      <th>0</th>\n",
       "      <td>41</td>\n",
       "      <td>Travel_Rarely</td>\n",
       "      <td>1102</td>\n",
       "      <td>Sales</td>\n",
       "      <td>1</td>\n",
       "      <td>2</td>\n",
       "      <td>Life Sciences</td>\n",
       "      <td>Unsatisfied</td>\n",
       "      <td>Female</td>\n",
       "      <td>94</td>\n",
       "      <td>...</td>\n",
       "      <td>Very Unsatisfied</td>\n",
       "      <td>0</td>\n",
       "      <td>8</td>\n",
       "      <td>0</td>\n",
       "      <td>Extremely Unbalanced</td>\n",
       "      <td>6</td>\n",
       "      <td>4</td>\n",
       "      <td>0</td>\n",
       "      <td>5</td>\n",
       "      <td>1</td>\n",
       "    </tr>\n",
       "    <tr>\n",
       "      <th>1</th>\n",
       "      <td>49</td>\n",
       "      <td>Travel_Frequently</td>\n",
       "      <td>279</td>\n",
       "      <td>Research &amp; Development</td>\n",
       "      <td>8</td>\n",
       "      <td>1</td>\n",
       "      <td>Life Sciences</td>\n",
       "      <td>Satisfied</td>\n",
       "      <td>Male</td>\n",
       "      <td>61</td>\n",
       "      <td>...</td>\n",
       "      <td>Very Satisfied</td>\n",
       "      <td>1</td>\n",
       "      <td>10</td>\n",
       "      <td>3</td>\n",
       "      <td>Balanced</td>\n",
       "      <td>10</td>\n",
       "      <td>7</td>\n",
       "      <td>1</td>\n",
       "      <td>7</td>\n",
       "      <td>0</td>\n",
       "    </tr>\n",
       "    <tr>\n",
       "      <th>2</th>\n",
       "      <td>37</td>\n",
       "      <td>Travel_Rarely</td>\n",
       "      <td>1373</td>\n",
       "      <td>Research &amp; Development</td>\n",
       "      <td>2</td>\n",
       "      <td>2</td>\n",
       "      <td>Other</td>\n",
       "      <td>Very Satisfied</td>\n",
       "      <td>Male</td>\n",
       "      <td>92</td>\n",
       "      <td>...</td>\n",
       "      <td>Unsatisfied</td>\n",
       "      <td>0</td>\n",
       "      <td>7</td>\n",
       "      <td>3</td>\n",
       "      <td>Balanced</td>\n",
       "      <td>0</td>\n",
       "      <td>0</td>\n",
       "      <td>0</td>\n",
       "      <td>0</td>\n",
       "      <td>1</td>\n",
       "    </tr>\n",
       "    <tr>\n",
       "      <th>3</th>\n",
       "      <td>33</td>\n",
       "      <td>Travel_Frequently</td>\n",
       "      <td>1392</td>\n",
       "      <td>Research &amp; Development</td>\n",
       "      <td>3</td>\n",
       "      <td>4</td>\n",
       "      <td>Life Sciences</td>\n",
       "      <td>Very Satisfied</td>\n",
       "      <td>Female</td>\n",
       "      <td>56</td>\n",
       "      <td>...</td>\n",
       "      <td>Satisfied</td>\n",
       "      <td>0</td>\n",
       "      <td>8</td>\n",
       "      <td>3</td>\n",
       "      <td>Balanced</td>\n",
       "      <td>8</td>\n",
       "      <td>7</td>\n",
       "      <td>3</td>\n",
       "      <td>0</td>\n",
       "      <td>0</td>\n",
       "    </tr>\n",
       "    <tr>\n",
       "      <th>4</th>\n",
       "      <td>27</td>\n",
       "      <td>Travel_Rarely</td>\n",
       "      <td>591</td>\n",
       "      <td>Research &amp; Development</td>\n",
       "      <td>2</td>\n",
       "      <td>1</td>\n",
       "      <td>Medical</td>\n",
       "      <td>Very Unsatisfied</td>\n",
       "      <td>Male</td>\n",
       "      <td>40</td>\n",
       "      <td>...</td>\n",
       "      <td>Very Satisfied</td>\n",
       "      <td>1</td>\n",
       "      <td>6</td>\n",
       "      <td>3</td>\n",
       "      <td>Balanced</td>\n",
       "      <td>2</td>\n",
       "      <td>2</td>\n",
       "      <td>2</td>\n",
       "      <td>2</td>\n",
       "      <td>0</td>\n",
       "    </tr>\n",
       "  </tbody>\n",
       "</table>\n",
       "<p>5 rows × 31 columns</p>\n",
       "</div>"
      ],
      "text/plain": [
       "   age    business_travel  daily_rate              department  \\\n",
       "0   41      Travel_Rarely        1102                   Sales   \n",
       "1   49  Travel_Frequently         279  Research & Development   \n",
       "2   37      Travel_Rarely        1373  Research & Development   \n",
       "3   33  Travel_Frequently        1392  Research & Development   \n",
       "4   27      Travel_Rarely         591  Research & Development   \n",
       "\n",
       "   distance_from_home  education education_field environment_satisfaction  \\\n",
       "0                   1          2   Life Sciences              Unsatisfied   \n",
       "1                   8          1   Life Sciences                Satisfied   \n",
       "2                   2          2           Other           Very Satisfied   \n",
       "3                   3          4   Life Sciences           Very Satisfied   \n",
       "4                   2          1         Medical         Very Unsatisfied   \n",
       "\n",
       "   gender  hourly_rate  ...  relationship_satisfaction  stock_option_level  \\\n",
       "0  Female           94  ...           Very Unsatisfied                   0   \n",
       "1    Male           61  ...             Very Satisfied                   1   \n",
       "2    Male           92  ...                Unsatisfied                   0   \n",
       "3  Female           56  ...                  Satisfied                   0   \n",
       "4    Male           40  ...             Very Satisfied                   1   \n",
       "\n",
       "  total_working_years training_times_last_year     work_life_balance  \\\n",
       "0                   8                        0  Extremely Unbalanced   \n",
       "1                  10                        3              Balanced   \n",
       "2                   7                        3              Balanced   \n",
       "3                   8                        3              Balanced   \n",
       "4                   6                        3              Balanced   \n",
       "\n",
       "   years_at_company  years_in_current_role  years_since_last_promotion  \\\n",
       "0                 6                      4                           0   \n",
       "1                10                      7                           1   \n",
       "2                 0                      0                           0   \n",
       "3                 8                      7                           3   \n",
       "4                 2                      2                           2   \n",
       "\n",
       "  years_with_curr_manager  attrition  \n",
       "0                       5          1  \n",
       "1                       7          0  \n",
       "2                       0          1  \n",
       "3                       0          0  \n",
       "4                       2          0  \n",
       "\n",
       "[5 rows x 31 columns]"
      ]
     },
     "execution_count": 2,
     "metadata": {},
     "output_type": "execute_result"
    }
   ],
   "source": [
    "# Load the pickled file\n",
    "employeeattrition_df = joblib.load('employeeattrition.pkl')  \n",
    "\n",
    "# Check\n",
    "employeeattrition_df.head()"
   ]
  },
  {
   "cell_type": "markdown",
   "metadata": {},
   "source": [
    "# 3 Split the data into training and testing set"
   ]
  },
  {
   "cell_type": "code",
   "execution_count": 3,
   "metadata": {},
   "outputs": [],
   "source": [
    "# Store the features in variable X (uppercase as there are multiple features)\n",
    "feature_cols = ['age', \n",
    "    'monthly_income', 'monthly_rate',\n",
    "    'total_working_years', \n",
    "    'years_in_current_role', 'years_at_company',\n",
    "    'years_with_curr_manager']\n",
    "\n",
    "\n",
    "X = employeeattrition_df[feature_cols]\n",
    "\n",
    "# Store the labels/target in variable y (lower case as its a single value)\n",
    "y = employeeattrition_df['attrition']\n",
    "\n",
    "# Split into train/test set\n",
    "X_train, X_test, y_train, y_test = train_test_split(X, \n",
    "                                                    y, \n",
    "                                                    test_size=0.2, # keep 20% for testing\n",
    "                                                    random_state=2 # pass an int for reproducible rtesult\n",
    "                                                    )"
   ]
  },
  {
   "cell_type": "markdown",
   "metadata": {},
   "source": [
    "# 4 Data Transformations to improve modelling performance"
   ]
  },
  {
   "cell_type": "markdown",
   "metadata": {},
   "source": [
    "## 4.1 Scale the columns with continuous values"
   ]
  },
  {
   "cell_type": "code",
   "execution_count": 4,
   "metadata": {
    "scrolled": false
   },
   "outputs": [
    {
     "name": "stdout",
     "output_type": "stream",
     "text": [
      "(1176, 7) (294, 7)\n"
     ]
    }
   ],
   "source": [
    "# 1. Select the columns to scale\n",
    "columns_to_scale = [ \n",
    "    'age', \n",
    "    'monthly_income', 'monthly_rate',\n",
    "    'total_working_years', 'years_at_company',\n",
    "    'years_in_current_role',\n",
    "    'years_with_curr_manager'\n",
    "]\n",
    "\n",
    "# 2. Make copy of the training and testing sets fix the issue below\n",
    "X_train = X_train.copy()\n",
    "X_test = X_test.copy()\n",
    "\n",
    "# 3. Instantiate a scaler\n",
    "scaler = StandardScaler()\n",
    "    \n",
    "# 4. Fit the scaler on the training column and transform the training and testing columns \n",
    "for col in columns_to_scale:\n",
    "    # Must reshape the numpy array returned b the scaler from 1D to 2D\n",
    "    scaler.fit(X_train[col].values.reshape(-1, 1))\n",
    "    # Then transform both the training and testing sets\n",
    "    X_train[col] = scaler.transform(X_train[col].values.reshape(-1, 1))\n",
    "    X_test[col] = scaler.transform(X_test[col].values.reshape(-1, 1))\n",
    "\n",
    "# Check\n",
    "print(X_train.shape, X_test.shape)"
   ]
  },
  {
   "cell_type": "code",
   "execution_count": 5,
   "metadata": {},
   "outputs": [
    {
     "data": {
      "text/html": [
       "<div>\n",
       "<style scoped>\n",
       "    .dataframe tbody tr th:only-of-type {\n",
       "        vertical-align: middle;\n",
       "    }\n",
       "\n",
       "    .dataframe tbody tr th {\n",
       "        vertical-align: top;\n",
       "    }\n",
       "\n",
       "    .dataframe thead th {\n",
       "        text-align: right;\n",
       "    }\n",
       "</style>\n",
       "<table border=\"1\" class=\"dataframe\">\n",
       "  <thead>\n",
       "    <tr style=\"text-align: right;\">\n",
       "      <th></th>\n",
       "      <th>age</th>\n",
       "      <th>monthly_income</th>\n",
       "      <th>monthly_rate</th>\n",
       "      <th>total_working_years</th>\n",
       "      <th>years_in_current_role</th>\n",
       "      <th>years_at_company</th>\n",
       "      <th>years_with_curr_manager</th>\n",
       "    </tr>\n",
       "  </thead>\n",
       "  <tbody>\n",
       "    <tr>\n",
       "      <th>285</th>\n",
       "      <td>0.020782</td>\n",
       "      <td>-1.052118</td>\n",
       "      <td>0.215234</td>\n",
       "      <td>0.738591</td>\n",
       "      <td>2.125569</td>\n",
       "      <td>1.658942</td>\n",
       "      <td>0.790100</td>\n",
       "    </tr>\n",
       "    <tr>\n",
       "      <th>194</th>\n",
       "      <td>0.901489</td>\n",
       "      <td>-0.169777</td>\n",
       "      <td>0.855546</td>\n",
       "      <td>1.378762</td>\n",
       "      <td>1.032220</td>\n",
       "      <td>2.153638</td>\n",
       "      <td>1.066471</td>\n",
       "    </tr>\n",
       "    <tr>\n",
       "      <th>323</th>\n",
       "      <td>-0.970013</td>\n",
       "      <td>-0.627625</td>\n",
       "      <td>1.453087</td>\n",
       "      <td>-0.797818</td>\n",
       "      <td>-0.607803</td>\n",
       "      <td>-0.649639</td>\n",
       "      <td>-0.591753</td>\n",
       "    </tr>\n",
       "    <tr>\n",
       "      <th>1015</th>\n",
       "      <td>-0.309483</td>\n",
       "      <td>-0.774892</td>\n",
       "      <td>0.830666</td>\n",
       "      <td>-0.157647</td>\n",
       "      <td>-0.334466</td>\n",
       "      <td>-0.484740</td>\n",
       "      <td>-0.315382</td>\n",
       "    </tr>\n",
       "    <tr>\n",
       "      <th>1003</th>\n",
       "      <td>-1.300279</td>\n",
       "      <td>-0.701573</td>\n",
       "      <td>-1.318245</td>\n",
       "      <td>-0.541750</td>\n",
       "      <td>-0.607803</td>\n",
       "      <td>-0.649639</td>\n",
       "      <td>-0.591753</td>\n",
       "    </tr>\n",
       "  </tbody>\n",
       "</table>\n",
       "</div>"
      ],
      "text/plain": [
       "           age  monthly_income  monthly_rate  total_working_years  \\\n",
       "285   0.020782       -1.052118      0.215234             0.738591   \n",
       "194   0.901489       -0.169777      0.855546             1.378762   \n",
       "323  -0.970013       -0.627625      1.453087            -0.797818   \n",
       "1015 -0.309483       -0.774892      0.830666            -0.157647   \n",
       "1003 -1.300279       -0.701573     -1.318245            -0.541750   \n",
       "\n",
       "      years_in_current_role  years_at_company  years_with_curr_manager  \n",
       "285                2.125569          1.658942                 0.790100  \n",
       "194                1.032220          2.153638                 1.066471  \n",
       "323               -0.607803         -0.649639                -0.591753  \n",
       "1015              -0.334466         -0.484740                -0.315382  \n",
       "1003              -0.607803         -0.649639                -0.591753  "
      ]
     },
     "execution_count": 5,
     "metadata": {},
     "output_type": "execute_result"
    }
   ],
   "source": [
    "# Check again\n",
    "X_train.head()"
   ]
  },
  {
   "cell_type": "code",
   "execution_count": 6,
   "metadata": {
    "scrolled": true
   },
   "outputs": [
    {
     "data": {
      "text/html": [
       "<div>\n",
       "<style scoped>\n",
       "    .dataframe tbody tr th:only-of-type {\n",
       "        vertical-align: middle;\n",
       "    }\n",
       "\n",
       "    .dataframe tbody tr th {\n",
       "        vertical-align: top;\n",
       "    }\n",
       "\n",
       "    .dataframe thead th {\n",
       "        text-align: right;\n",
       "    }\n",
       "</style>\n",
       "<table border=\"1\" class=\"dataframe\">\n",
       "  <thead>\n",
       "    <tr style=\"text-align: right;\">\n",
       "      <th></th>\n",
       "      <th>age</th>\n",
       "      <th>monthly_income</th>\n",
       "      <th>monthly_rate</th>\n",
       "      <th>total_working_years</th>\n",
       "      <th>years_in_current_role</th>\n",
       "      <th>years_at_company</th>\n",
       "      <th>years_with_curr_manager</th>\n",
       "    </tr>\n",
       "  </thead>\n",
       "  <tbody>\n",
       "    <tr>\n",
       "      <th>721</th>\n",
       "      <td>1.451931</td>\n",
       "      <td>2.679265</td>\n",
       "      <td>-1.422937</td>\n",
       "      <td>1.378762</td>\n",
       "      <td>1.852232</td>\n",
       "      <td>0.834449</td>\n",
       "      <td>0.237359</td>\n",
       "    </tr>\n",
       "    <tr>\n",
       "      <th>843</th>\n",
       "      <td>-1.190190</td>\n",
       "      <td>-0.326799</td>\n",
       "      <td>-0.128614</td>\n",
       "      <td>-0.413716</td>\n",
       "      <td>0.758883</td>\n",
       "      <td>0.174854</td>\n",
       "      <td>0.790100</td>\n",
       "    </tr>\n",
       "    <tr>\n",
       "      <th>627</th>\n",
       "      <td>1.672108</td>\n",
       "      <td>2.633008</td>\n",
       "      <td>0.655108</td>\n",
       "      <td>2.531069</td>\n",
       "      <td>1.032220</td>\n",
       "      <td>0.339753</td>\n",
       "      <td>-1.144494</td>\n",
       "    </tr>\n",
       "    <tr>\n",
       "      <th>1368</th>\n",
       "      <td>-0.309483</td>\n",
       "      <td>0.090771</td>\n",
       "      <td>1.698952</td>\n",
       "      <td>0.610557</td>\n",
       "      <td>1.578894</td>\n",
       "      <td>1.329145</td>\n",
       "      <td>1.895582</td>\n",
       "    </tr>\n",
       "    <tr>\n",
       "      <th>305</th>\n",
       "      <td>-0.089306</td>\n",
       "      <td>0.067800</td>\n",
       "      <td>-1.036317</td>\n",
       "      <td>-0.029613</td>\n",
       "      <td>1.032220</td>\n",
       "      <td>0.339753</td>\n",
       "      <td>1.066471</td>\n",
       "    </tr>\n",
       "  </tbody>\n",
       "</table>\n",
       "</div>"
      ],
      "text/plain": [
       "           age  monthly_income  monthly_rate  total_working_years  \\\n",
       "721   1.451931        2.679265     -1.422937             1.378762   \n",
       "843  -1.190190       -0.326799     -0.128614            -0.413716   \n",
       "627   1.672108        2.633008      0.655108             2.531069   \n",
       "1368 -0.309483        0.090771      1.698952             0.610557   \n",
       "305  -0.089306        0.067800     -1.036317            -0.029613   \n",
       "\n",
       "      years_in_current_role  years_at_company  years_with_curr_manager  \n",
       "721                1.852232          0.834449                 0.237359  \n",
       "843                0.758883          0.174854                 0.790100  \n",
       "627                1.032220          0.339753                -1.144494  \n",
       "1368               1.578894          1.329145                 1.895582  \n",
       "305                1.032220          0.339753                 1.066471  "
      ]
     },
     "execution_count": 6,
     "metadata": {},
     "output_type": "execute_result"
    }
   ],
   "source": [
    "# Check again\n",
    "X_test.head()"
   ]
  },
  {
   "cell_type": "markdown",
   "metadata": {},
   "source": [
    "## 4.2 Label Encoding Data Transformation"
   ]
  },
  {
   "cell_type": "code",
   "execution_count": 7,
   "metadata": {},
   "outputs": [],
   "source": [
    "# # 1. Select the columns to label encode\n",
    "# No encoding is performed as continous variables are only being used\n",
    "# columns_to_encode = [\n",
    "#     'business_travel', 'department',\n",
    "#     # gender,\n",
    "#     'education_field', 'environment_satisfaction', 'job_role',\n",
    "#     'job_satisfaction', 'marital_status', 'overtime', \n",
    "#     'relationship_satisfaction', 'work_life_balance'\n",
    "# ]\n",
    "\n",
    "# # 2. Make copy of the training and testing sets fix the issue below\n",
    "# X_train = X_train.copy()\n",
    "# X_test = X_test.copy()\n",
    "\n",
    "# # 3. Instantiate a LabelEncoder\n",
    "# encoder = LabelEncoder()\n",
    "\n",
    "# # 4. Fit the encoder on the training column and transform the training and testing columns\n",
    "# for col in columns_to_encode:\n",
    "#     # First fit the encoder to the training data\n",
    "#     encoder.fit(X_train[col])\n",
    "#     # Then transform both the training and the testing sets\n",
    "#     X_train[col] = encoder.transform(X_train[col])\n",
    "#     X_test[col] = encoder.transform(X_test[col])\n",
    "\n",
    "# # Check\n",
    "# X_train.head()"
   ]
  },
  {
   "cell_type": "markdown",
   "metadata": {},
   "source": [
    "## 4.3 Label Hotcoding Data Transformation"
   ]
  },
  {
   "cell_type": "code",
   "execution_count": 8,
   "metadata": {},
   "outputs": [],
   "source": [
    "# # 1. Select the columns to one-hot encode\n",
    "# No encoding is performed as continous variables are only being used\n",
    "# columns_to_onehot_encode = [\n",
    "# #     'business_travel', 'department',\n",
    "#     'gender'\n",
    "# #     'education_field', 'environment_satisfaction', 'job_role',\n",
    "# #     'job_satisfaction', 'marital_status', 'overtime', \n",
    "# #     'relationship_satisfaction', 'work_life_balance'\n",
    "# ]\n",
    "\n",
    "# # 2 Instantiate a one-hot encoder\n",
    "# enc = LabelBinarizer()\n",
    "\n",
    "# # 3. Fit the encoder on the training column and transform the training and testing columns\n",
    "# for col in columns_to_onehot_encode:\n",
    "#     ## Fix X_train\n",
    "#     dummies_df = pd.get_dummies(X_train[col], prefix=\"gdr\") # generate dataframe of dummies\n",
    "#     X_train.drop([col], axis=1, inplace=True) # drop original column\n",
    "#     X_train = pd.concat([X_train, dummies_df], axis=1) # concatenate both dataframes\n",
    "#     ## Fix X_test\n",
    "#     dummies_df = pd.get_dummies(X_test[col], prefix=\"gdr\")\n",
    "#     X_test.drop([col], axis=1, inplace=True)\n",
    "#     X_test = pd.concat([X_test, dummies_df], axis=1)\n",
    "\n",
    "     \n",
    "# # Check\n",
    "# X_train.head()"
   ]
  },
  {
   "cell_type": "markdown",
   "metadata": {},
   "source": [
    "# 5 Modelling"
   ]
  },
  {
   "cell_type": "markdown",
   "metadata": {},
   "source": [
    "## 5.1 Initial/baseline model"
   ]
  },
  {
   "cell_type": "markdown",
   "metadata": {},
   "source": [
    "### 5.1.1 Fit initial model"
   ]
  },
  {
   "cell_type": "code",
   "execution_count": 9,
   "metadata": {},
   "outputs": [
    {
     "name": "stdout",
     "output_type": "stream",
     "text": [
      "[0 0 0 0 0]\n"
     ]
    }
   ],
   "source": [
    "# Instantiate model and fit on training data\n",
    "knn_model = KNeighborsClassifier(n_neighbors=5).fit(X_train, y_train)\n",
    "\n",
    "# Predict using test data\n",
    "y_pred = knn_model.predict(X_test)\n",
    "\n",
    "# Quick check\n",
    "print(y_pred[:5])"
   ]
  },
  {
   "cell_type": "markdown",
   "metadata": {},
   "source": [
    "### 5.1.1 Evaluate model"
   ]
  },
  {
   "cell_type": "code",
   "execution_count": 10,
   "metadata": {},
   "outputs": [
    {
     "name": "stdout",
     "output_type": "stream",
     "text": [
      "accuracy: 0.8231292517006803\n",
      "precision: 0.4090909090909091\n",
      "recall: 0.1875\n",
      "F1 score: 0.2571428571428571\n",
      "[[233  13]\n",
      " [ 39   9]]\n"
     ]
    },
    {
     "data": {
      "text/plain": [
       "Text(50.0, 0.5, 'True')"
      ]
     },
     "execution_count": 10,
     "metadata": {},
     "output_type": "execute_result"
    },
    {
     "data": {
      "image/png": "[encoded data removed]",
      "text/plain": [
       "<Figure size 432x288 with 2 Axes>"
      ]
     },
     "metadata": {
      "needs_background": "light"
     },
     "output_type": "display_data"
    }
   ],
   "source": [
    "# Compute performance metrics of the baseline model\n",
    "accuracy = accuracy_score(y_test, y_pred)\n",
    "print(f\"accuracy: {accuracy}\")\n",
    "\n",
    "precision = precision_score(y_test, y_pred)\n",
    "print(f\"precision: {precision}\")\n",
    "\n",
    "recall = recall_score(y_test, y_pred)\n",
    "print(f\"recall: {recall}\")\n",
    "\n",
    "f1 = f1_score(y_test, y_pred)\n",
    "print(f\"F1 score: {f1}\")\n",
    "\n",
    "cf_matrix = confusion_matrix(y_test, y_pred)\n",
    "print(cf_matrix)\n",
    "# visualise the confusion matrix\n",
    "sns.heatmap(cf_matrix, annot=True, fmt=\"d\", yticklabels=False, cmap=\"YlGnBu\")\n",
    "plt.xlabel('Predicted')\n",
    "plt.ylabel('True')"
   ]
  },
  {
   "cell_type": "markdown",
   "metadata": {},
   "source": [
    "# Continue with the rest of the modelling.."
   ]
  },
  {
   "cell_type": "markdown",
   "metadata": {},
   "source": [
    "## 5.2 Improved model"
   ]
  },
  {
   "cell_type": "markdown",
   "metadata": {},
   "source": [
    "### 5.2.1 Use grid search to find best hyperameters "
   ]
  },
  {
   "cell_type": "code",
   "execution_count": 11,
   "metadata": {},
   "outputs": [
    {
     "name": "stdout",
     "output_type": "stream",
     "text": [
      "Best params: {'n_neighbors': 3}, score: 0.26\n"
     ]
    }
   ],
   "source": [
    "# List of relevant params\n",
    "#     n_neighbors:int, default=5\n",
    "#     weights: {‘uniform’, ‘distance’} or callable, default=’uniform’\n",
    "#     algorithm: {‘auto’, ‘ball_tree’, ‘kd_tree’, ‘brute’}, default=’auto’\n",
    "\n",
    "param_grid = [\n",
    "              {\"n_neighbors\": range(1, 50)},\n",
    "              {\"n_neighbors\": range(1, 50), \"weights\": [\"uniform\", \"distance\"]}\n",
    "             ]\n",
    "\n",
    "# Instantiate a grid search object and fit it to the training data\n",
    "clf = KNeighborsClassifier()\n",
    "grid = GridSearchCV(clf, param_grid, verbose=0, cv=5, scoring='f1')\n",
    "grid.fit(X_train, y_train)\n",
    "print(f\"Best params: {grid.best_params_}, score: {grid.best_score_:0.2f}\")"
   ]
  },
  {
   "cell_type": "markdown",
   "metadata": {},
   "source": [
    "### 5.2.2 Fit improved model"
   ]
  },
  {
   "cell_type": "code",
   "execution_count": 12,
   "metadata": {},
   "outputs": [
    {
     "name": "stdout",
     "output_type": "stream",
     "text": [
      "[0 0 0 0 0]\n"
     ]
    }
   ],
   "source": [
    "# Instantiate model and fit on training data\n",
    "knn_model = KNeighborsClassifier(n_neighbors = 3).fit(X_train, y_train)\n",
    "\n",
    "# Predict using test data\n",
    "y_pred = knn_model.predict(X_test)\n",
    "\n",
    "# Quick check\n",
    "print(y_pred[:5])"
   ]
  },
  {
   "cell_type": "markdown",
   "metadata": {},
   "source": [
    "### 5.2.3 Evaluate  improved model"
   ]
  },
  {
   "cell_type": "code",
   "execution_count": 13,
   "metadata": {},
   "outputs": [
    {
     "name": "stdout",
     "output_type": "stream",
     "text": [
      "accuracy: 0.8095238095238095\n",
      "precision: 0.375\n",
      "recall: 0.25\n",
      "F1 score: 0.3\n",
      "[[226  20]\n",
      " [ 36  12]]\n"
     ]
    },
    {
     "data": {
      "text/plain": [
       "Text(50.0, 0.5, 'True')"
      ]
     },
     "execution_count": 13,
     "metadata": {},
     "output_type": "execute_result"
    },
    {
     "data": {
      "image/png": "[encoded data removed]",
      "text/plain": [
       "<Figure size 432x288 with 2 Axes>"
      ]
     },
     "metadata": {
      "needs_background": "light"
     },
     "output_type": "display_data"
    }
   ],
   "source": [
    "# Compute performance metrics of the baseline model\n",
    "accuracy = accuracy_score(y_test, y_pred)\n",
    "print(f\"accuracy: {accuracy}\")\n",
    "\n",
    "precision = precision_score(y_test, y_pred)\n",
    "print(f\"precision: {precision}\")\n",
    "\n",
    "recall = recall_score(y_test, y_pred)\n",
    "print(f\"recall: {recall}\")\n",
    "\n",
    "f1 = f1_score(y_test, y_pred)\n",
    "print(f\"F1 score: {f1}\")\n",
    "\n",
    "cf_matrix = confusion_matrix(y_test, y_pred)\n",
    "print(cf_matrix)\n",
    "# visualise the confusion matrix\n",
    "sns.heatmap(cf_matrix, annot=True, fmt=\"d\", yticklabels=False, cmap=\"YlGnBu\")\n",
    "plt.xlabel('Predicted')\n",
    "plt.ylabel('True')"
   ]
  },
  {
   "cell_type": "markdown",
   "metadata": {},
   "source": [
    "# 6 Save the model for further evaluation (in another notebook)\n",
    "#### Should also save the train/test sets"
   ]
  },
  {
   "cell_type": "code",
   "execution_count": 14,
   "metadata": {},
   "outputs": [
    {
     "data": {
      "text/plain": [
       "['y_test.pkl']"
      ]
     },
     "execution_count": 14,
     "metadata": {},
     "output_type": "execute_result"
    }
   ],
   "source": [
    "# Pickle the model for later evaluation\n",
    "joblib.dump(knn_model, 'model-knn-feat-sel.pkl')  # # Use the right model name and a suitable file name\n",
    "\n",
    "# Also need to pickle the training and testing sets\n",
    "joblib.dump(X_train, 'X_train.pkl') \n",
    "joblib.dump(X_test, 'X_test.pkl') \n",
    "joblib.dump(y_train, 'y_train.pkl') \n",
    "joblib.dump(y_test, 'y_test.pkl')\n",
    "\n",
    "# Note: make sure that the model and the training/testing sets match \n",
    "# i.e. the model was built using this particular training set\n",
    "# and the testing set matches this partiular training\n"
   ]
  },
  {
   "cell_type": "code",
   "execution_count": null,
   "metadata": {},
   "outputs": [],
   "source": []
  }
 ],
 "metadata": {
  "anaconda-cloud": {},
  "kernelspec": {
   "display_name": "Python 3",
   "language": "python",
   "name": "python3"
  },
  "language_info": {
   "codemirror_mode": {
    "name": "ipython",
    "version": 3
   },
   "file_extension": ".py",
   "mimetype": "text/x-python",
   "name": "python",
   "nbconvert_exporter": "python",
   "pygments_lexer": "ipython3",
   "version": "3.8.5"
  }
 },
 "nbformat": 4,
 "nbformat_minor": 2
}
